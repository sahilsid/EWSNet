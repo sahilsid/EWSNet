{
 "cells": [
  {
   "cell_type": "markdown",
   "metadata": {
    "colab_type": "text",
    "id": "kSt4CEDowbPh"
   },
   "source": []
  },
  {
   "cell_type": "code",
   "execution_count": null,
   "metadata": {},
   "outputs": [],
   "source": [
    "%matplotlib inline"
   ]
  },
  {
   "cell_type": "code",
   "execution_count": null,
   "metadata": {},
   "outputs": [],
   "source": [
    "import warnings\n",
    "warnings.filterwarnings('ignore')"
   ]
  },
  {
   "cell_type": "code",
   "execution_count": null,
   "metadata": {
    "colab": {
     "base_uri": "https://localhost:8080/",
     "height": 51
    },
    "colab_type": "code",
    "id": "LMC2sApJwG9b",
    "outputId": "d02a0033-45a3-4e99-dcf4-7b284738783e"
   },
   "outputs": [],
   "source": [
    "from sklearn.datasets import load_digits\n",
    "import matplotlib.pyplot as plt\n",
    "import numpy as np\n",
    "import tensorflow as tf\n",
    "from sklearn.linear_model import LogisticRegression\n",
    "from sklearn.svm import SVC\n",
    "from sklearn.model_selection import train_test_split\n",
    "from sklearn.metrics import confusion_matrix\n",
    "import seaborn as sn\n",
    "import numpy as np\n",
    "import pandas as pd\n",
    "import os\n",
    "import sklearn\n",
    "import glob\n",
    "from sklearn.metrics import plot_confusion_matrix\n",
    "import matplotlib.pyplot as plt\n",
    "import pandas as pd\n",
    "import seaborn as sns\n",
    "from sklearn.ensemble import RandomForestClassifier\n",
    "from sklearn.neural_network import MLPClassifier\n",
    "import pickle\n",
    "from pycm import ConfusionMatrix"
   ]
  },
  {
   "cell_type": "code",
   "execution_count": null,
   "metadata": {},
   "outputs": [],
   "source": [
    "DATASET     = 'GAUSSIAN'\n",
    "TEST_SPLIT  = 16000\n",
    "N_TRIALS    = 10\n",
    "WEIGHT_DIR  = './weights/{}'.format(DATASET)\n",
    "\n",
    "ews_signals = ['Auto-Regressive Coefficient','Standard Deviation','Skewness','Kurtosis','Coefficient of Variation','Return Rate','Density Ratio','Autocorrelation at First Lag']\n",
    "save_data        = {}\n",
    "accuracies       = {}\n",
    "confusion_matrix = {}\n",
    "perf_metrics     = {}"
   ]
  },
  {
   "cell_type": "code",
   "execution_count": null,
   "metadata": {},
   "outputs": [],
   "source": [
    "def summarize_perf(y_true,y_pred):\n",
    "    perf = ConfusionMatrix(actual_vector=y_true,predict_vector=y_pred)\n",
    "    print(perf)\n",
    "    return perf"
   ]
  },
  {
   "cell_type": "code",
   "execution_count": null,
   "metadata": {},
   "outputs": [],
   "source": [
    "def get_model(name='LogisticRegression'):\n",
    "    state = np.random.randint(0,1000)\n",
    "    if(name==\"LogisticRegression\"):\n",
    "        model = LogisticRegression(C=0.5,solver='sag',verbose=1,n_jobs=48,multi_class='auto',random_state=state)\n",
    "    elif(name==\"SVM\"):\n",
    "        model = SVC(C=0.5,kernel='linear',random_state=state)\n",
    "    elif(name==\"RandomForest\"):\n",
    "        model = RandomForestClassifier(n_jobs=48,random_state=state)\n",
    "    elif(name==\"MLP\"):\n",
    "        model = MLPClassifier(random_state=state)\n",
    "    return model"
   ]
  },
  {
   "cell_type": "code",
   "execution_count": null,
   "metadata": {},
   "outputs": [],
   "source": [
    "def unison_shuffle(a, b):\n",
    "    assert len(a) == len(b)\n",
    "    p = np.random.permutation(len(a))\n",
    "    return a[p], b[p]"
   ]
  },
  {
   "cell_type": "code",
   "execution_count": null,
   "metadata": {
    "scrolled": false
   },
   "outputs": [],
   "source": [
    "models      = [\"LogisticRegression\",\"SVM\",\"RandomForest\",\"MLP\"]\n",
    "DATASETS    = ['GAUSSIAN','NOISE']\n",
    "TEST_SPLIT  = 16000\n",
    "N_TRIALS    = 10\n",
    "\n",
    "for DATASET in DATASETS:\n",
    "    WEIGHT_DIR  = './weights/{}'.format(DATASET)\n",
    "    X_M         = np.load('./data/EWS_MATRIX_{}.npy'.format(DATASET))\n",
    "    Y           = np.load('./data/EWS_LABEL_{}.npy'.format(DATASET))\n",
    "    ews_signals = ['Auto-Regressive Coefficient','Standard Deviation','Skewness','Kurtosis','Coefficient of Variation','Return Rate','Density Ratio','Autocorrelation at First Lag']\n",
    "    save_data = {}\n",
    "    accuracies       = {}\n",
    "    confusion_matrix = {}\n",
    "    perf_metrics     = {}\n",
    "    for model_name in models:\n",
    "        print('===='*20,\"\\n\\n\",\" \\t \\t \\t MODEL : \",model_name,\"\\n\\n\",'===='*20)\n",
    "        for ews_index in range(X_M.shape[2]):\n",
    "            print('===='*20,\"\\n\",\" \\t \\t \\t EWS SIGNAL : \",ews_signals[ews_index],\"\\n\",'===='*20)\n",
    "            ews_name               = ews_signals[ews_index]\n",
    "            accuracies[ews_name]   = []\n",
    "            perf_metrics[ews_name] = []\n",
    "            X_INDIVIDUAL = X_M[:,:,ews_index]\n",
    "            for trial_no in range(N_TRIALS):\n",
    "                print('____'*20,\"\\n\",\" \\t \\t \\t TRIAL : \",trial_no+1,\"\\n\",'____'*20)\n",
    "                if('GAUSSIAN' in DATASET):\n",
    "                    x_train, x_test, y_train, y_test = train_test_split(X_INDIVIDUAL,Y,test_size=0.2)\n",
    "                else:\n",
    "                    x_train = X_INDIVIDUAL[:TEST_SPLIT]\n",
    "                    x_test  = X_INDIVIDUAL[TEST_SPLIT:]\n",
    "                    y_train = Y[:TEST_SPLIT]\n",
    "                    y_test  = Y[TEST_SPLIT:]   \n",
    "                    x_train,y_train = unison_shuffle(x_train,y_train)\n",
    "                    x_test,y_test   = unison_shuffle(x_test,y_test)\n",
    "                x_train = sklearn.preprocessing.scale(x_train)\n",
    "                x_test  = sklearn.preprocessing.scale(x_test)\n",
    "                model = get_model(model_name)\n",
    "                model.fit(x_train, y_train)\n",
    "                perf_metric = summarize_perf(y_test, model.predict(x_test))\n",
    "                score       = model.score(x_test, y_test)\n",
    "                print(\"---\"*20,\"\\n \\t \\t TEST ACCURACY \",\": \\t\", score,\"\\n\",\"---\"*20)\n",
    "                accuracies[ews_name].append(score)\n",
    "                perf_metrics[ews_name].append(perf_metric)\n",
    "                fig,ax = plt.subplots(1,1,figsize=(5,5))\n",
    "                disp = plot_confusion_matrix(model, x_test, y_test,cmap=plt.cm.Blues,normalize='true',display_labels=[-1,0,1],ax=ax)\n",
    "                plt.show()\n",
    "        plt.figure(figsize=(8,8))\n",
    "        sns.barplot(x =[x for x in accuracies.keys()], y =[np.mean(y) for y in accuracies.values()])\n",
    "        plt.ylabel('Test Accuracy')\n",
    "        plt.show()\n",
    "        plt.close()\n"
   ]
  },
  {
   "cell_type": "code",
   "execution_count": null,
   "metadata": {},
   "outputs": [],
   "source": []
  }
 ],
 "metadata": {
  "colab": {
   "collapsed_sections": [],
   "name": "ews_logistic_regression.ipynb",
   "provenance": []
  },
  "kernelspec": {
   "display_name": "Python 3",
   "language": "python",
   "name": "python3"
  },
  "language_info": {
   "codemirror_mode": {
    "name": "ipython",
    "version": 3
   },
   "file_extension": ".py",
   "mimetype": "text/x-python",
   "name": "python",
   "nbconvert_exporter": "python",
   "pygments_lexer": "ipython3",
   "version": "3.8.3"
  }
 },
 "nbformat": 4,
 "nbformat_minor": 1
}
